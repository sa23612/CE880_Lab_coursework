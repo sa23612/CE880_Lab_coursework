{
  "nbformat": 4,
  "nbformat_minor": 5,
  "metadata": {
    "kernelspec": {
      "display_name": "Python 3",
      "language": "python",
      "name": "python3"
    },
    "language_info": {
      "codemirror_mode": {
        "name": "ipython",
        "version": 3
      },
      "file_extension": ".py",
      "mimetype": "text/x-python",
      "name": "python",
      "nbconvert_exporter": "python",
      "pygments_lexer": "ipython3",
      "version": "3.7.10"
    },
    "colab": {
      "name": "Exercise_1_2.ipynb",
      "provenance": [],
      "include_colab_link": true
    }
  },
  "cells": [
    {
      "cell_type": "markdown",
      "metadata": {
        "id": "view-in-github",
        "colab_type": "text"
      },
      "source": [
        "<a href=\"https://colab.research.google.com/github/sa23612/CE880_Lab_coursework/blob/main/Week1/Exercise_1_2.ipynb\" target=\"_parent\"><img src=\"https://colab.research.google.com/assets/colab-badge.svg\" alt=\"Open In Colab\"/></a>"
      ]
    },
    {
      "cell_type": "markdown",
      "metadata": {
        "id": "5ff1c9a6"
      },
      "source": [
        "# CE880: An Approachable Introduction to Data Science\n",
        "### Prepared by: Haider Raza (h.raza@essex.ac.uk)\n",
        "\n",
        "***\n",
        "## Learning Outcome Day 2\n",
        "\n",
        "* Python Syntax\n",
        "* Variables and tips on variable names\n",
        "* Data Types\n",
        "* Data Structures\n",
        "* Strings\n",
        "* Logic/Booleans\n",
        "* Operators\n",
        "* If/Else, While, For, Functions\n",
        "* OOP: Classes and inheritance\n",
        "\n",
        "***"
      ],
      "id": "5ff1c9a6"
    },
    {
      "cell_type": "markdown",
      "metadata": {
        "id": "409c13c1"
      },
      "source": [
        "## Python Syntax\n",
        "\n",
        "The Python language has many similarities to `Perl`, `C`, and `Java`. However, there are some definite differences between the languages.\n",
        "\n",
        "Python statement ends with the token NEWLINE character (carriage return). It means each line in a Python script is a statement. The following Python script contains three statements in three separate lines.\n",
        "\n",
        "```python\n",
        "print('id: ', 1)\n",
        "print('First Name: ', 'Steve')\n",
        "print('Last Name: ', 'Jobs')\n",
        "```\n",
        "Use backslash character / to join a statement span over multiple lines, as shown below."
      ],
      "id": "409c13c1"
    },
    {
      "cell_type": "code",
      "metadata": {
        "id": "63805eab",
        "outputId": "0734decb-06e5-4cc5-d285-0a72a435c3ee",
        "colab": {
          "base_uri": "https://localhost:8080/"
        }
      },
      "source": [
        "if 100 > 99 and \\\n",
        "    200 <= 300 and \\\n",
        "    True != False:\n",
        "        print('Hello World!')"
      ],
      "id": "63805eab",
      "execution_count": 2,
      "outputs": [
        {
          "output_type": "stream",
          "name": "stdout",
          "text": [
            "Hello World!\n"
          ]
        }
      ]
    },
    {
      "cell_type": "markdown",
      "metadata": {
        "id": "2f0d8da3"
      },
      "source": [
        "### Variables\n",
        "\n",
        "A name that is used to denote something or a value is called a variable. In python, variables can be declared and values can be assigned to it as follows:"
      ],
      "id": "2f0d8da3"
    },
    {
      "cell_type": "code",
      "metadata": {
        "id": "5de9b42c",
        "outputId": "f8f78a52-461f-4277-f447-5fa8fb5c71bf",
        "colab": {
          "base_uri": "https://localhost:8080/"
        }
      },
      "source": [
        "x = 2\n",
        "y = 5\n",
        "xy = 'Hello'\n",
        "\n",
        "print(x+y, xy)"
      ],
      "id": "5de9b42c",
      "execution_count": 3,
      "outputs": [
        {
          "output_type": "stream",
          "name": "stdout",
          "text": [
            "7 Hello\n"
          ]
        }
      ]
    },
    {
      "cell_type": "code",
      "metadata": {
        "id": "3cfb1a08",
        "outputId": "60431ea8-e4db-426b-d4c4-48de9da61eb0",
        "colab": {
          "base_uri": "https://localhost:8080/"
        }
      },
      "source": [
        "# Multiple variables can be assigned with the same value\n",
        "\n",
        "x = y = 1\n",
        "print(x,y)"
      ],
      "id": "3cfb1a08",
      "execution_count": 4,
      "outputs": [
        {
          "output_type": "stream",
          "name": "stdout",
          "text": [
            "1 1\n"
          ]
        }
      ]
    },
    {
      "cell_type": "markdown",
      "metadata": {
        "id": "35dc3ba4"
      },
      "source": [
        "### Operators\n",
        "\n",
        "#### Arithmetic Operators\n",
        "\n",
        "| Symbol | Task Performed |\n",
        "|----|---|\n",
        "| +  | Addition |\n",
        "| -  | Subtraction |\n",
        "| /  | division |\n",
        "| %  | mod |\n",
        "| *  | multiplication |\n",
        "| //  | floor division |\n",
        "| **  | to the power of |"
      ],
      "id": "35dc3ba4"
    },
    {
      "cell_type": "code",
      "metadata": {
        "id": "9c67bf09",
        "outputId": "9adf4da8-cf82-4b53-c53a-9b0e162d1af7",
        "colab": {
          "base_uri": "https://localhost:8080/"
        }
      },
      "source": [
        "# Addition\n",
        "a = 1 + 3\n",
        "print(a)\n",
        "\n",
        "# Substraction\n",
        "b = 10 - 4\n",
        "print(b)\n",
        "\n",
        "# Multiplication\n",
        "c = a * b\n",
        "print(c)\n",
        "\n",
        "# Division\n",
        "d = c/2\n",
        "print(d)\n",
        "\n",
        "# Modulo\n",
        "\n",
        "e = 15%10\n",
        "print(e)\n",
        "\n",
        "#Floor division is nothing but converting the result so obtained to the nearest integer.\n",
        "f = 2.8//2.0\n",
        "print(f)"
      ],
      "id": "9c67bf09",
      "execution_count": 5,
      "outputs": [
        {
          "output_type": "stream",
          "name": "stdout",
          "text": [
            "4\n",
            "6\n",
            "24\n",
            "12.0\n",
            "5\n",
            "1.0\n"
          ]
        }
      ]
    },
    {
      "cell_type": "markdown",
      "metadata": {
        "id": "631dcfd9"
      },
      "source": [
        "## Relational Operators\n",
        "| Symbol | Task Performed |\n",
        "|----|---|\n",
        "| == | True, if it is equal |\n",
        "| !=  | True, if not equal to |\n",
        "| < | less than |\n",
        "| > | greater than |\n",
        "| <=  | less than or equal to |\n",
        "| >=  | greater than or equal to |"
      ],
      "id": "631dcfd9"
    },
    {
      "cell_type": "code",
      "metadata": {
        "id": "76f3a152",
        "outputId": "1646a83c-139e-4378-8139-5047518505e9",
        "colab": {
          "base_uri": "https://localhost:8080/"
        }
      },
      "source": [
        "# Try few operators in this cell\n",
        "\n",
        "a=10\n",
        "b=12\n",
        "print(a==b)\n",
        "print(a!=b)\n",
        "print(a<b)\n",
        "print(a>b)\n",
        "print(a<=b)\n",
        "print(a>=b)\n"
      ],
      "id": "76f3a152",
      "execution_count": 57,
      "outputs": [
        {
          "output_type": "stream",
          "name": "stdout",
          "text": [
            "False\n",
            "True\n",
            "True\n",
            "False\n",
            "True\n",
            "False\n"
          ]
        }
      ]
    },
    {
      "cell_type": "markdown",
      "metadata": {
        "id": "4cb6943e"
      },
      "source": [
        "## Print\n",
        "\n",
        "In Python, single, double and triple quotes are used to denote a string. Most use single quotes when declaring a single character. Double quotes when declaring a line and triple quotes when declaring a paragraph/multiple lines."
      ],
      "id": "4cb6943e"
    },
    {
      "cell_type": "code",
      "metadata": {
        "id": "b0fbc52b",
        "outputId": "566eadea-3565-4a8e-a02c-0965b20f730e",
        "colab": {
          "base_uri": "https://localhost:8080/"
        }
      },
      "source": [
        "print('H')\n",
        "print(\"Hello World\")\n",
        "print(\"\"\"I am from Essex.\n",
        "I love Python.\"\"\")"
      ],
      "id": "b0fbc52b",
      "execution_count": 7,
      "outputs": [
        {
          "output_type": "stream",
          "name": "stdout",
          "text": [
            "H\n",
            "Hello World\n",
            "I am from Essex.\n",
            "I love Python.\n"
          ]
        }
      ]
    },
    {
      "cell_type": "code",
      "metadata": {
        "id": "9aa40c0d",
        "outputId": "996765d7-96f2-46db-b4c9-ed98f69ce922",
        "colab": {
          "base_uri": "https://localhost:8080/"
        }
      },
      "source": [
        "string1 = \"World\"\n",
        "print(\"Hello\", string1)\n",
        "\n",
        "string2 = '!'\n",
        "print(\"Hello\", string1, string2)"
      ],
      "id": "9aa40c0d",
      "execution_count": 8,
      "outputs": [
        {
          "output_type": "stream",
          "name": "stdout",
          "text": [
            "Hello World\n",
            "Hello World !\n"
          ]
        }
      ]
    },
    {
      "cell_type": "code",
      "metadata": {
        "id": "7ad94768",
        "outputId": "dcc25617-ed21-46e9-e68c-fb937091de5b",
        "colab": {
          "base_uri": "https://localhost:8080/"
        }
      },
      "source": [
        "print(\"Hello %s\" % string1)"
      ],
      "id": "7ad94768",
      "execution_count": 9,
      "outputs": [
        {
          "output_type": "stream",
          "name": "stdout",
          "text": [
            "Hello World\n"
          ]
        }
      ]
    },
    {
      "cell_type": "code",
      "metadata": {
        "id": "b6f05bed",
        "outputId": "79d9eed7-b399-48f3-c50c-66542aa474bc",
        "colab": {
          "base_uri": "https://localhost:8080/"
        }
      },
      "source": [
        "print(\"Actual Number = %d\" %18)\n",
        "print(\"Float of the number = %f\" %18)"
      ],
      "id": "b6f05bed",
      "execution_count": 10,
      "outputs": [
        {
          "output_type": "stream",
          "name": "stdout",
          "text": [
            "Actual Number = 18\n",
            "Float of the number = 18.000000\n"
          ]
        }
      ]
    },
    {
      "cell_type": "code",
      "metadata": {
        "id": "d4c829e6",
        "outputId": "9e2986b3-18cb-458a-90fa-c12e25bf6a02",
        "colab": {
          "base_uri": "https://localhost:8080/"
        }
      },
      "source": [
        "print(\"Hello %s %s\" %(string1,string2))"
      ],
      "id": "d4c829e6",
      "execution_count": 11,
      "outputs": [
        {
          "output_type": "stream",
          "name": "stdout",
          "text": [
            "Hello World !\n"
          ]
        }
      ]
    },
    {
      "cell_type": "markdown",
      "metadata": {
        "id": "50d5cf96"
      },
      "source": [
        "## Python: Data Types\n",
        "\n",
        "In programming, data type is an important concept. `Variables` can store data of different types, and different types can do different things. Python has the following data types built-in by default, in these categories:\n",
        "\n",
        "\n",
        "|   Type          |  Syntax   |\n",
        "|-----------------|---------- |\n",
        "| Text Type:      | \t`str`     |\n",
        "| Numeric Types:  |  `int`, `float`, `complex`         |\n",
        "| Sequence Types: |  `list`, `tuple`, `range`         |\n",
        "| Mapping Type:   |  `dict`         |\n",
        "| Set Types:      |  `set`, `frozenset`         |\n",
        "| Boolean Type:   |  `bool`         |\n",
        "|  Binary Types:  |  `bytes`, `bytearray`, `memoryview`      |\n",
        "\n",
        "\n",
        "\n",
        "You can get the data type of any object by using the type() function:\n"
      ],
      "id": "50d5cf96"
    },
    {
      "cell_type": "code",
      "metadata": {
        "id": "a17eb933",
        "outputId": "4dc67165-6541-4af2-e74e-e129a5395ed3",
        "colab": {
          "base_uri": "https://localhost:8080/"
        }
      },
      "source": [
        "x = 20\n",
        "type(x)"
      ],
      "id": "a17eb933",
      "execution_count": 12,
      "outputs": [
        {
          "output_type": "execute_result",
          "data": {
            "text/plain": [
              "int"
            ]
          },
          "metadata": {},
          "execution_count": 12
        }
      ]
    },
    {
      "cell_type": "code",
      "metadata": {
        "id": "f3dfc281",
        "outputId": "f5b30491-672e-4073-82fd-0efab04a2909",
        "colab": {
          "base_uri": "https://localhost:8080/"
        }
      },
      "source": [
        "# str type\n",
        "x = \"Hello Essex\"\n",
        "print(type(x))"
      ],
      "id": "f3dfc281",
      "execution_count": 13,
      "outputs": [
        {
          "output_type": "stream",
          "name": "stdout",
          "text": [
            "<class 'str'>\n"
          ]
        }
      ]
    },
    {
      "cell_type": "code",
      "metadata": {
        "id": "7544fc03",
        "outputId": "8695d93a-0298-4cc0-8aed-3ad3a2dfad3f",
        "colab": {
          "base_uri": "https://localhost:8080/"
        }
      },
      "source": [
        "# int type\n",
        "x = 100\n",
        "print(type(x))"
      ],
      "id": "7544fc03",
      "execution_count": 14,
      "outputs": [
        {
          "output_type": "stream",
          "name": "stdout",
          "text": [
            "<class 'int'>\n"
          ]
        }
      ]
    },
    {
      "cell_type": "code",
      "metadata": {
        "id": "2eab98ca",
        "outputId": "fbeb31e5-a4b7-41cd-cd08-0c7c88488996",
        "colab": {
          "base_uri": "https://localhost:8080/"
        }
      },
      "source": [
        "# float type\n",
        "x = 100.5\n",
        "print(type(x))"
      ],
      "id": "2eab98ca",
      "execution_count": 15,
      "outputs": [
        {
          "output_type": "stream",
          "name": "stdout",
          "text": [
            "<class 'float'>\n"
          ]
        }
      ]
    },
    {
      "cell_type": "code",
      "metadata": {
        "id": "0c5b2f2c",
        "outputId": "08f27b8b-e161-48e4-8cb5-b3969cd1ef87",
        "colab": {
          "base_uri": "https://localhost:8080/"
        }
      },
      "source": [
        "# complex type\n",
        "x = 1j\n",
        "print(type(x))\n"
      ],
      "id": "0c5b2f2c",
      "execution_count": 17,
      "outputs": [
        {
          "output_type": "stream",
          "name": "stdout",
          "text": [
            "<class 'complex'>\n"
          ]
        }
      ]
    },
    {
      "cell_type": "code",
      "metadata": {
        "id": "8ad94ec7",
        "outputId": "90bd2beb-8a37-4954-f145-170f462a5957",
        "colab": {
          "base_uri": "https://localhost:8080/"
        }
      },
      "source": [
        "# list type\n",
        "x = [\"I\", \"Love\", \"Essex\"]\n",
        "print(type(x))\n"
      ],
      "id": "8ad94ec7",
      "execution_count": 18,
      "outputs": [
        {
          "output_type": "stream",
          "name": "stdout",
          "text": [
            "<class 'list'>\n"
          ]
        }
      ]
    },
    {
      "cell_type": "code",
      "metadata": {
        "id": "72fbf8af",
        "outputId": "cb0c5ab4-a6d1-40e0-9d99-b6f7e9dedb7b",
        "colab": {
          "base_uri": "https://localhost:8080/"
        }
      },
      "source": [
        "# tuple\n",
        "x = (\"I\", \"Love\", \"Data Science\")\n",
        "print(type(x))\n"
      ],
      "id": "72fbf8af",
      "execution_count": 19,
      "outputs": [
        {
          "output_type": "stream",
          "name": "stdout",
          "text": [
            "<class 'tuple'>\n"
          ]
        }
      ]
    },
    {
      "cell_type": "code",
      "metadata": {
        "id": "ff37bea3",
        "outputId": "5068b553-97cf-456f-bfe7-bdc6bd4c7b6b",
        "colab": {
          "base_uri": "https://localhost:8080/"
        }
      },
      "source": [
        "# range type\n",
        "x = range(10)\n",
        "print(type(x))\n"
      ],
      "id": "ff37bea3",
      "execution_count": 20,
      "outputs": [
        {
          "output_type": "stream",
          "name": "stdout",
          "text": [
            "<class 'range'>\n"
          ]
        }
      ]
    },
    {
      "cell_type": "code",
      "metadata": {
        "id": "418f39a0",
        "outputId": "f71862c2-6baa-475c-99cb-934ca7502f94",
        "colab": {
          "base_uri": "https://localhost:8080/"
        }
      },
      "source": [
        "# dictonary type\n",
        "x = {\"name\" : \"Haider\", \"age\" : 36}\n",
        "print(type(x))\n"
      ],
      "id": "418f39a0",
      "execution_count": 21,
      "outputs": [
        {
          "output_type": "stream",
          "name": "stdout",
          "text": [
            "<class 'dict'>\n"
          ]
        }
      ]
    },
    {
      "cell_type": "code",
      "metadata": {
        "id": "68f4eb7f",
        "outputId": "40b31ed3-f240-4ed0-95ec-e2e05d72bc9e",
        "colab": {
          "base_uri": "https://localhost:8080/"
        }
      },
      "source": [
        "# set type\n",
        "x = {\"BWM\", \"Audi\", \"Honda\"}\n",
        "print(type(x))\n"
      ],
      "id": "68f4eb7f",
      "execution_count": 22,
      "outputs": [
        {
          "output_type": "stream",
          "name": "stdout",
          "text": [
            "<class 'set'>\n"
          ]
        }
      ]
    },
    {
      "cell_type": "code",
      "metadata": {
        "id": "19b7cf60",
        "outputId": "33828536-de37-4a1b-ff2d-682494b20318",
        "colab": {
          "base_uri": "https://localhost:8080/"
        }
      },
      "source": [
        "# frozen set type\n",
        "x = frozenset({\"England\", \"Wale\", \"Scotland\", \"Northern Ireland\"})\n",
        "print(type(x))\n"
      ],
      "id": "19b7cf60",
      "execution_count": 23,
      "outputs": [
        {
          "output_type": "stream",
          "name": "stdout",
          "text": [
            "<class 'frozenset'>\n"
          ]
        }
      ]
    },
    {
      "cell_type": "code",
      "metadata": {
        "id": "cfc1edf8",
        "outputId": "7acd28fa-2741-45fa-bfca-036686d95a31",
        "colab": {
          "base_uri": "https://localhost:8080/"
        }
      },
      "source": [
        "# bool type\n",
        "x = True\n",
        "print(type(x))"
      ],
      "id": "cfc1edf8",
      "execution_count": 25,
      "outputs": [
        {
          "output_type": "stream",
          "name": "stdout",
          "text": [
            "<class 'bool'>\n"
          ]
        }
      ]
    },
    {
      "cell_type": "code",
      "metadata": {
        "id": "86d6aefc",
        "outputId": "bf8dfe10-3a3c-4cb5-9156-6093ba6e170e",
        "colab": {
          "base_uri": "https://localhost:8080/"
        }
      },
      "source": [
        "# bytes type\n",
        "x = b\"Hello\"\n",
        "print(type(x))\n"
      ],
      "id": "86d6aefc",
      "execution_count": 24,
      "outputs": [
        {
          "output_type": "stream",
          "name": "stdout",
          "text": [
            "<class 'bytes'>\n"
          ]
        }
      ]
    },
    {
      "cell_type": "code",
      "metadata": {
        "id": "e0fd79e6",
        "outputId": "f3d1d05f-edc2-4481-f822-b5f6f01cf537",
        "colab": {
          "base_uri": "https://localhost:8080/"
        }
      },
      "source": [
        "# bytearray\n",
        "x = bytearray(3)\n",
        "print(type(x))\n"
      ],
      "id": "e0fd79e6",
      "execution_count": 26,
      "outputs": [
        {
          "output_type": "stream",
          "name": "stdout",
          "text": [
            "<class 'bytearray'>\n"
          ]
        }
      ]
    },
    {
      "cell_type": "code",
      "metadata": {
        "id": "60ea99b8",
        "outputId": "7e5abd42-a088-4209-f69d-a5425f5c32a7",
        "colab": {
          "base_uri": "https://localhost:8080/"
        }
      },
      "source": [
        "# memoryview\n",
        "x = memoryview(bytes(5))\n",
        "print(type(x))"
      ],
      "id": "60ea99b8",
      "execution_count": 27,
      "outputs": [
        {
          "output_type": "stream",
          "name": "stdout",
          "text": [
            "<class 'memoryview'>\n"
          ]
        }
      ]
    },
    {
      "cell_type": "markdown",
      "metadata": {
        "id": "019b08fd"
      },
      "source": [
        "### Do you know, we can convert or set data types:\n",
        "\n",
        "If you want to specify the data type, you can use the following constructor functions:"
      ],
      "id": "019b08fd"
    },
    {
      "cell_type": "code",
      "metadata": {
        "id": "fe8e2e4f"
      },
      "source": [
        "# Setting x to string\n",
        "x = str(\"Hello Essex\")\n",
        "\n",
        "# setting x to integer\n",
        "x = int(20)\n",
        "\n",
        "# setting x to float\n",
        "x = float(20.5)\n",
        "\n",
        "# setting x to list\n",
        "x = list((\"apple\", \"banana\", \"cherry\"))"
      ],
      "id": "fe8e2e4f",
      "execution_count": 28,
      "outputs": []
    },
    {
      "cell_type": "markdown",
      "metadata": {
        "id": "078f7039"
      },
      "source": [
        "## Python Conditions\n",
        "\n",
        "Python supports the usual logical conditions from mathematics:\n",
        "\n",
        "|   Type          |  Syntax   |\n",
        "|-----------------|---------- |\n",
        "| Equals :        | `a == b`  |\n",
        "| Not Equals :    | `a != b`  |\n",
        "| Less than :     | \t`a < b` |\n",
        "| Less than or equal to:| \t`a <= b`|\n",
        "| Greater than :  | \t`a > b` |\n",
        "|Greater than or equal to:|  `a >= b`|\n",
        "\n",
        "\n",
        "These conditions can be used in several ways, most commonly in `if` statements and loops. An `if` statement is written by using the `if` keyword.\n",
        "\n",
        "```python\n",
        "x = 5\n",
        "y = 10\n",
        "if y > x:\n",
        "  print(\"b is greater than a\")\n",
        "```\n",
        "\n",
        "## Important point to note: `Indentation`\n",
        "Python relies on indentation (whitespace at the beginning of a line) to define scope in the code. Other programming languages often use curly-brackets for this purpose.\n",
        "\n",
        "```python\n",
        "a = 33\n",
        "b = 200\n",
        "if b > a:\n",
        "print(\"b is greater than a\") # you will get an error\n",
        "```\n",
        "Above code will give an error.\n",
        "\n",
        "### Elif\n",
        "\n",
        "The `elif` keyword is pythons way of saying \"**if the previous conditions were not true, then try this condition**\".\n"
      ],
      "id": "078f7039"
    },
    {
      "cell_type": "code",
      "metadata": {
        "id": "3c7440e0",
        "outputId": "cff26145-8b5b-431a-8e31-372ed9f6354b",
        "colab": {
          "base_uri": "https://localhost:8080/"
        }
      },
      "source": [
        "a = 10\n",
        "b = 10\n",
        "if b > a:\n",
        "  print(\"b is greater than a\")\n",
        "elif a == b:\n",
        "  print(\"a and b are equal\")"
      ],
      "id": "3c7440e0",
      "execution_count": 29,
      "outputs": [
        {
          "output_type": "stream",
          "name": "stdout",
          "text": [
            "a and b are equal\n"
          ]
        }
      ]
    },
    {
      "cell_type": "markdown",
      "metadata": {
        "id": "dfedbeaa"
      },
      "source": [
        "### Else\n",
        "The `else` keyword catches anything which isn't caught by the preceding conditions."
      ],
      "id": "dfedbeaa"
    },
    {
      "cell_type": "code",
      "metadata": {
        "id": "cf0967df",
        "outputId": "f94a686b-908c-4b69-f975-d6db1a17b8b6",
        "colab": {
          "base_uri": "https://localhost:8080/"
        }
      },
      "source": [
        "a = 30\n",
        "b = 10\n",
        "if b > a:\n",
        "  print(\"b is greater than a\")\n",
        "elif a == b:\n",
        "  print(\"a and b are equal\")\n",
        "else:\n",
        "  print(\"a is greater than b\")"
      ],
      "id": "cf0967df",
      "execution_count": 30,
      "outputs": [
        {
          "output_type": "stream",
          "name": "stdout",
          "text": [
            "a is greater than b\n"
          ]
        }
      ]
    },
    {
      "cell_type": "markdown",
      "metadata": {
        "id": "f879cfa8"
      },
      "source": [
        "### Using And in IF\n",
        "\n",
        "The `and` keyword is a logical operator, and is used to combine conditional statements:"
      ],
      "id": "f879cfa8"
    },
    {
      "cell_type": "code",
      "metadata": {
        "id": "631b83ad",
        "outputId": "d766fb14-e6b9-4fc0-dede-093c6b0797cc",
        "colab": {
          "base_uri": "https://localhost:8080/"
        }
      },
      "source": [
        "a = 30\n",
        "b = 10\n",
        "c = 70\n",
        "if a > b and c > a:\n",
        "  print(\"Both conditions are True\")"
      ],
      "id": "631b83ad",
      "execution_count": 31,
      "outputs": [
        {
          "output_type": "stream",
          "name": "stdout",
          "text": [
            "Both conditions are True\n"
          ]
        }
      ]
    },
    {
      "cell_type": "markdown",
      "metadata": {
        "id": "9b459ac3"
      },
      "source": [
        "### Nested If\n",
        "\n",
        "You can have `if` statements inside `if` statements, this is called \"nested if\" statements."
      ],
      "id": "9b459ac3"
    },
    {
      "cell_type": "code",
      "metadata": {
        "id": "379483f2",
        "outputId": "cbacd4fc-1143-4083-e9d0-56d92e7a0cc7",
        "colab": {
          "base_uri": "https://localhost:8080/"
        }
      },
      "source": [
        "x = 55\n",
        "\n",
        "if x > 10:\n",
        "  print(\"Above ten,\")\n",
        "  if x > 20:\n",
        "    print(\"and also above 20!\")\n",
        "  else:\n",
        "    print(\"but not above 20.\")"
      ],
      "id": "379483f2",
      "execution_count": 33,
      "outputs": [
        {
          "output_type": "stream",
          "name": "stdout",
          "text": [
            "Above ten,\n",
            "and also above 20!\n"
          ]
        }
      ]
    },
    {
      "cell_type": "markdown",
      "metadata": {
        "id": "d4b2236e"
      },
      "source": [
        "## Python Loops\n",
        "\n",
        "Python has two primitive loop commands:\n",
        "\n",
        "* `while` loops\n",
        "* `for`\n",
        "\n",
        "\n",
        "### While Loop\n",
        "With the `while` loop we can execute a set of statements as long as a condition is true."
      ],
      "id": "d4b2236e"
    },
    {
      "cell_type": "code",
      "metadata": {
        "id": "a7719580",
        "outputId": "6d907dad-ab07-4b32-eda8-34a976b81a15",
        "colab": {
          "base_uri": "https://localhost:8080/"
        }
      },
      "source": [
        "i = 1\n",
        "while i < 6:\n",
        "  print(i)\n",
        "  i += 1"
      ],
      "id": "a7719580",
      "execution_count": 34,
      "outputs": [
        {
          "output_type": "stream",
          "name": "stdout",
          "text": [
            "1\n",
            "2\n",
            "3\n",
            "4\n",
            "5\n"
          ]
        }
      ]
    },
    {
      "cell_type": "markdown",
      "metadata": {
        "id": "bbcf0e54"
      },
      "source": [
        "### Break Statement\n",
        "With the break statement we can stop the loop even if the `while` condition is true:"
      ],
      "id": "bbcf0e54"
    },
    {
      "cell_type": "code",
      "metadata": {
        "id": "8d28fa1f",
        "outputId": "2db5f8d2-333f-47b9-e80b-0fa066d1b007",
        "colab": {
          "base_uri": "https://localhost:8080/"
        }
      },
      "source": [
        "i = 1\n",
        "while i < 6:\n",
        "  print(i)\n",
        "  if i == 3:\n",
        "    break\n",
        "  i += 1"
      ],
      "id": "8d28fa1f",
      "execution_count": 35,
      "outputs": [
        {
          "output_type": "stream",
          "name": "stdout",
          "text": [
            "1\n",
            "2\n",
            "3\n"
          ]
        }
      ]
    },
    {
      "cell_type": "markdown",
      "metadata": {
        "id": "a0924b93"
      },
      "source": [
        "### For Loop\n",
        "\n",
        "A `for` loop is used for iterating over a sequence (that is either a list, a tuple, a dictionary, a set, or a string).\n",
        "\n",
        "This is less like the for keyword in other programming languages, and works more like an iterator method as found in other object-orientated programming languages.\n",
        "\n",
        "With the `for` loop we can execute a set of statements, once for each item in a list, tuple, set etc."
      ],
      "id": "a0924b93"
    },
    {
      "cell_type": "code",
      "metadata": {
        "id": "2309a7b7",
        "outputId": "3fa5e73d-eab8-4275-ef04-39ae53dd7f6c",
        "colab": {
          "base_uri": "https://localhost:8080/"
        }
      },
      "source": [
        "cars = [\"bmw\", \"audi\", \"honda\"]\n",
        "for x in cars:\n",
        "  print(x)"
      ],
      "id": "2309a7b7",
      "execution_count": 36,
      "outputs": [
        {
          "output_type": "stream",
          "name": "stdout",
          "text": [
            "bmw\n",
            "audi\n",
            "honda\n"
          ]
        }
      ]
    },
    {
      "cell_type": "markdown",
      "metadata": {
        "id": "6a896169"
      },
      "source": [
        "### Looping Through a String\n",
        "\n",
        "Even strings are iterable objects, they contain a sequence of characters:"
      ],
      "id": "6a896169"
    },
    {
      "cell_type": "code",
      "metadata": {
        "id": "0f72ee43",
        "outputId": "2bbeafb4-cd79-4476-bd02-4a20042b0759",
        "colab": {
          "base_uri": "https://localhost:8080/"
        }
      },
      "source": [
        "for x in \"bmw\":\n",
        "  print(x)"
      ],
      "id": "0f72ee43",
      "execution_count": 37,
      "outputs": [
        {
          "output_type": "stream",
          "name": "stdout",
          "text": [
            "b\n",
            "m\n",
            "w\n"
          ]
        }
      ]
    },
    {
      "cell_type": "markdown",
      "metadata": {
        "id": "cb8c65bf"
      },
      "source": [
        "### Using break in for loop\n",
        "\n",
        "With the `break` statement we can stop the loop before it has looped through all the items:"
      ],
      "id": "cb8c65bf"
    },
    {
      "cell_type": "code",
      "metadata": {
        "id": "1adeb8ea",
        "outputId": "90139212-4a79-41ef-d9bf-5c201bc15a3d",
        "colab": {
          "base_uri": "https://localhost:8080/"
        }
      },
      "source": [
        "cars = [\"bmw\", \"audi\", \"honda\"]\n",
        "for x in cars:\n",
        "  print(x)\n",
        "  if x == \"audi\":\n",
        "    break"
      ],
      "id": "1adeb8ea",
      "execution_count": 38,
      "outputs": [
        {
          "output_type": "stream",
          "name": "stdout",
          "text": [
            "bmw\n",
            "audi\n"
          ]
        }
      ]
    },
    {
      "cell_type": "markdown",
      "metadata": {
        "id": "56476275"
      },
      "source": [
        "### The range() Function\n",
        "\n",
        "To loop through a set of code a specified number of times, we can use the `range()` function,\n",
        "The `range()` function returns a sequence of numbers, starting from 0 by default, and increments by 1 (by default), and ends at a specified number."
      ],
      "id": "56476275"
    },
    {
      "cell_type": "code",
      "metadata": {
        "id": "2f3d83d6",
        "outputId": "940e4f17-deb0-4f00-f4a5-50cc8a4d24aa",
        "colab": {
          "base_uri": "https://localhost:8080/"
        }
      },
      "source": [
        "for x in range(10):\n",
        "  print(x)"
      ],
      "id": "2f3d83d6",
      "execution_count": 39,
      "outputs": [
        {
          "output_type": "stream",
          "name": "stdout",
          "text": [
            "0\n",
            "1\n",
            "2\n",
            "3\n",
            "4\n",
            "5\n",
            "6\n",
            "7\n",
            "8\n",
            "9\n"
          ]
        }
      ]
    },
    {
      "cell_type": "code",
      "metadata": {
        "id": "471f2383",
        "outputId": "1132107d-c5f6-456a-d09d-b0e693bb9498",
        "colab": {
          "base_uri": "https://localhost:8080/"
        }
      },
      "source": [
        "for x in range(4, 10):\n",
        "  print(x)"
      ],
      "id": "471f2383",
      "execution_count": 40,
      "outputs": [
        {
          "output_type": "stream",
          "name": "stdout",
          "text": [
            "4\n",
            "5\n",
            "6\n",
            "7\n",
            "8\n",
            "9\n"
          ]
        }
      ]
    },
    {
      "cell_type": "markdown",
      "metadata": {
        "id": "62fb8e38"
      },
      "source": [
        "## Functions in Python\n",
        "\n",
        "A function is a block of code which only runs when it is called. You can pass data, known as parameters, into a function. A function can return data as a result.\n",
        "\n",
        "### Creating a Function\n",
        "\n",
        "In Python a function is defined using the `def` keyword:"
      ],
      "id": "62fb8e38"
    },
    {
      "cell_type": "code",
      "metadata": {
        "id": "34bc5ecb"
      },
      "source": [
        "def my_function():\n",
        "  print(\"Hello, this is my first function\")"
      ],
      "id": "34bc5ecb",
      "execution_count": 46,
      "outputs": []
    },
    {
      "cell_type": "markdown",
      "metadata": {
        "id": "38e7320d"
      },
      "source": [
        "Calling a function, we have just created:"
      ],
      "id": "38e7320d"
    },
    {
      "cell_type": "code",
      "metadata": {
        "id": "4dffaec3",
        "outputId": "1caa8f5a-7818-4712-8287-e0ed875c020d",
        "colab": {
          "base_uri": "https://localhost:8080/"
        }
      },
      "source": [
        "my_function()"
      ],
      "id": "4dffaec3",
      "execution_count": 47,
      "outputs": [
        {
          "output_type": "stream",
          "name": "stdout",
          "text": [
            "Hello, this is my first function\n"
          ]
        }
      ]
    },
    {
      "cell_type": "markdown",
      "metadata": {
        "id": "239ae4f3"
      },
      "source": [
        "### Arguments\n",
        "Information can be passed into functions as arguments. Arguments are specified after the function name, inside the parentheses. You can add as many arguments as you want, just separate them with a comma.\n",
        "\n",
        "The following example has a function with one argument (fname). When the function is called, we pass along a first name, which is used inside the function to print the full name:"
      ],
      "id": "239ae4f3"
    },
    {
      "cell_type": "code",
      "metadata": {
        "id": "815ad622",
        "outputId": "2faae6b1-d759-4876-edae-4f9abcda81c0",
        "colab": {
          "base_uri": "https://localhost:8080/"
        }
      },
      "source": [
        "def my_function(car_model):\n",
        "  print(\"BMW \" + car_model)\n",
        "\n",
        "my_function(\"520d\")\n",
        "my_function(\"320i\")\n",
        "my_function(\"320d\")"
      ],
      "id": "815ad622",
      "execution_count": 48,
      "outputs": [
        {
          "output_type": "stream",
          "name": "stdout",
          "text": [
            "BMW 520d\n",
            "BMW 320i\n",
            "BMW 320d\n"
          ]
        }
      ]
    },
    {
      "cell_type": "markdown",
      "metadata": {
        "id": "24c1d9a9"
      },
      "source": [
        "### Parameters or Arguments?\n",
        "\n",
        "The terms \"parameter\" and \"argument\" can be used for the same thing: information that are passed into a function. But, there is a difference and important to note that:\n",
        "\n",
        "* A \"**parameter**\" is the variable listed inside the parentheses in the function definition.\n",
        "\n",
        "* An \"**argument**\" is the value that is sent to the function when it is called."
      ],
      "id": "24c1d9a9"
    },
    {
      "cell_type": "markdown",
      "metadata": {
        "id": "c9e819fb"
      },
      "source": [
        "### Number of Arguments\n",
        "By default, a function must be called with the correct number of arguments. Meaning that if your function expects 2 arguments, you have to call the function with 2 arguments, not more, and not less."
      ],
      "id": "c9e819fb"
    },
    {
      "cell_type": "code",
      "metadata": {
        "id": "0d6b2b15",
        "outputId": "8fbb80b7-cd0c-4830-ccae-ae1e8f9da73e",
        "colab": {
          "base_uri": "https://localhost:8080/"
        }
      },
      "source": [
        "def my_function(car_name, car_model):\n",
        "  print(car_name + \" \" + car_model)\n",
        "\n",
        "my_function(\"Tesla\", \"Model X\")"
      ],
      "id": "0d6b2b15",
      "execution_count": 44,
      "outputs": [
        {
          "output_type": "stream",
          "name": "stdout",
          "text": [
            "Tesla Model X\n"
          ]
        }
      ]
    },
    {
      "cell_type": "code",
      "metadata": {
        "id": "8a5b6c21",
        "outputId": "1cd45970-748b-4f8d-ed0e-66410e1a234c",
        "colab": {
          "base_uri": "https://localhost:8080/"
        }
      },
      "source": [
        "# If you try to call the function with 1 or 3 arguments, you will get an error:\n",
        "my_function(\"Tesla\")"
      ],
      "id": "8a5b6c21",
      "execution_count": 49,
      "outputs": [
        {
          "output_type": "stream",
          "name": "stdout",
          "text": [
            "BMW Tesla\n"
          ]
        }
      ]
    },
    {
      "cell_type": "markdown",
      "metadata": {
        "id": "79c9aeeb"
      },
      "source": [
        "### Arbitrary Arguments, *args\n",
        "If you do not know how many arguments that will be passed into your function, add a * before the parameter name in the function definition.\n",
        "\n",
        "This way the function will receive a tuple of arguments, and can access the items accordingly:"
      ],
      "id": "79c9aeeb"
    },
    {
      "cell_type": "code",
      "metadata": {
        "id": "f43a863a",
        "outputId": "43501688-54e2-4b2c-d800-d63bfdd54ece",
        "colab": {
          "base_uri": "https://localhost:8080/"
        }
      },
      "source": [
        "def my_function(*cars):\n",
        "  print(\"In BMW, I like \" + cars[2])\n",
        "\n",
        "my_function(\"X7\", \"X3\", \"X1\")"
      ],
      "id": "f43a863a",
      "execution_count": 50,
      "outputs": [
        {
          "output_type": "stream",
          "name": "stdout",
          "text": [
            "In BMW, I like X1\n"
          ]
        }
      ]
    },
    {
      "cell_type": "markdown",
      "metadata": {
        "id": "e4238ea1"
      },
      "source": [
        "### Default Parameter Value\n",
        "The following example shows how to use a default parameter value. If we call the function without argument, it uses the default value:"
      ],
      "id": "e4238ea1"
    },
    {
      "cell_type": "code",
      "metadata": {
        "id": "bb4f35c5",
        "outputId": "364d0a31-1451-48be-f33d-bc20d999b783",
        "colab": {
          "base_uri": "https://localhost:8080/"
        }
      },
      "source": [
        "def my_function(car = \"Tesla\"):\n",
        "  print(\"My favroite car is \" + car)\n",
        "\n",
        "my_function(\"BMW\")\n",
        "my_function(\"Audi\")\n",
        "my_function()\n",
        "my_function(\"Honda\")"
      ],
      "id": "bb4f35c5",
      "execution_count": 51,
      "outputs": [
        {
          "output_type": "stream",
          "name": "stdout",
          "text": [
            "My favroite car is BMW\n",
            "My favroite car is Audi\n",
            "My favroite car is Tesla\n",
            "My favroite car is Honda\n"
          ]
        }
      ]
    },
    {
      "cell_type": "markdown",
      "metadata": {
        "id": "a4878052"
      },
      "source": [
        "### Passing a List as an Argument\n",
        "You can send any data types of argument to a function (string, number, list, dictionary etc.), and it will be treated as the same data type inside the function.\n",
        "\n",
        "E.g. if you send a List as an argument, it will still be a List when it reaches the function:"
      ],
      "id": "a4878052"
    },
    {
      "cell_type": "code",
      "metadata": {
        "id": "87440342",
        "outputId": "25c69558-d684-40a5-d6c8-e2cfcde3fe75",
        "colab": {
          "base_uri": "https://localhost:8080/"
        }
      },
      "source": [
        "def my_function(cars):\n",
        "  for x in cars:\n",
        "    print(x)\n",
        "\n",
        "fruits = [\"bmw\", \"audi\", \"honda\"]\n",
        "\n",
        "my_function(fruits)"
      ],
      "id": "87440342",
      "execution_count": 52,
      "outputs": [
        {
          "output_type": "stream",
          "name": "stdout",
          "text": [
            "bmw\n",
            "audi\n",
            "honda\n"
          ]
        }
      ]
    },
    {
      "cell_type": "markdown",
      "metadata": {
        "id": "36382d08"
      },
      "source": [
        "### Return Values\n",
        "To let a function return a value, use the return statement:"
      ],
      "id": "36382d08"
    },
    {
      "cell_type": "code",
      "metadata": {
        "id": "acceb61a",
        "outputId": "3a88e6fa-6269-4386-c081-3e2d85ec2dae",
        "colab": {
          "base_uri": "https://localhost:8080/"
        }
      },
      "source": [
        "def my_function(x):\n",
        "  return 5 * x\n",
        "\n",
        "print(my_function(10))\n",
        "print(my_function(20))\n",
        "print(my_function(30))"
      ],
      "id": "acceb61a",
      "execution_count": 53,
      "outputs": [
        {
          "output_type": "stream",
          "name": "stdout",
          "text": [
            "50\n",
            "100\n",
            "150\n"
          ]
        }
      ]
    },
    {
      "cell_type": "code",
      "metadata": {
        "id": "f1098bb0"
      },
      "source": [],
      "id": "f1098bb0",
      "execution_count": 53,
      "outputs": []
    }
  ]
}