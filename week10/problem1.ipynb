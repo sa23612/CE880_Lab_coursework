{
 "cells": [
  {
   "cell_type": "markdown",
   "metadata": {},
   "source": [
    "Before you turn this problem in, make sure everything runs as expected. First, **restart the kernel** (in the menubar, select Kernel$\\rightarrow$Restart) and then **run all cells** (in the menubar, select Cell$\\rightarrow$Run All).\n",
    "\n",
    "Make sure you fill in any place that says `YOUR CODE HERE` or \"YOUR ANSWER HERE\", as well as your name and collaborators below:"
   ]
  },
  {
   "cell_type": "code",
   "execution_count": null,
   "metadata": {},
   "outputs": [],
   "source": [
    "NAME = \"\"\n",
    "COLLABORATORS = \"\""
   ]
  },
  {
   "cell_type": "markdown",
   "metadata": {},
   "source": [
    "---"
   ]
  },
  {
   "cell_type": "markdown",
   "metadata": {},
   "source": [
    "---\n",
    "# Welcome to CE880\n",
    "### This is your week-10 : Problem notebook\n",
    "\n",
    "For this problem set, we'll be using the Jupyter notebook and please upload this notebook to [Google Colab](https://colab.research.google.com/). \n",
    "\n",
    "Paris Housing is a set of data created from imaginary data of house prices in an urban environment. \n",
    "https://github.com/sagihaider/CE880_2021/blob/main/Data/ParisHousingClass.csv \n",
    "\n",
    "All attributes are numeric variables and they are listed bellow:\n",
    "* squareMeters\n",
    "* numberOfRooms\n",
    "* hasYard\n",
    "* hasPool\n",
    "* floors - number of floors\n",
    "* cityCode - zip code\n",
    "* cityPartRange - the higher the range, the more exclusive the neighbourhood is\n",
    "* numPrevOwners - number of prevoious owners\n",
    "* made - year\n",
    "* isNewBuilt\n",
    "* hasStormProtector\n",
    "* basement - basement square meters\n",
    "* attic - attic square meteres\n",
    "* garage - garage size\n",
    "* hasStorageRoom\n",
    "* hasGuestRoom - number of guest rooms\n",
    "* price - price of a house\n",
    "* category - Luxury or Basic"
   ]
  },
  {
   "cell_type": "code",
   "execution_count": null,
   "metadata": {},
   "outputs": [],
   "source": [
    "import numpy as np \n",
    "import pandas as pd \n",
    "url = 'https://raw.githubusercontent.com/sagihaider/CE880_2021/main/Data/ParisHousingClass.csv'\n",
    "trainData = pd.read_csv(url,index_col=0)\n",
    "print(trainData.head())"
   ]
  },
  {
   "cell_type": "code",
   "execution_count": null,
   "metadata": {},
   "outputs": [],
   "source": [
    "from sklearn.preprocessing import LabelEncoder\n",
    "\n",
    "def label_encoded(feat):\n",
    "    le=LabelEncoder()\n",
    "    le.fit(feat)\n",
    "    print(feat.name,le.classes_)\n",
    "    return le.transform(feat)\n",
    "trainData['category']=label_encoded(trainData['category'])"
   ]
  },
  {
   "cell_type": "code",
   "execution_count": null,
   "metadata": {},
   "outputs": [],
   "source": [
    "from sklearn.model_selection import train_test_split,GridSearchCV\n",
    "\n",
    "y=trainData['category']\n",
    "x=trainData.drop('category',axis=1)\n",
    "xtrain,xtest,ytrain,ytest=train_test_split(x,y,test_size=0.2,random_state=42)"
   ]
  },
  {
   "cell_type": "markdown",
   "metadata": {},
   "source": [
    "---\n",
    "## Question 1: \n",
    "\n",
    "#### Classification\n",
    "Use the dataset, which I have spilted into training and test sets (xtrain, xtest, ytrain, ytest), please train the machine learning model to get the test accuracy of 100%. You are free to use any classication model such as Decision Tree, Random Forest, KNN, SVM..etc. \n",
    "\n",
    "Hint: Please use grid search to find a best model using different parameters. "
   ]
  },
  {
   "cell_type": "code",
   "execution_count": null,
   "metadata": {
    "deletable": false,
    "nbgrader": {
     "cell_type": "code",
     "checksum": "7d59a986a353bb89559cb1ff0cf34516",
     "grade": false,
     "grade_id": "my_model_ans",
     "locked": false,
     "schema_version": 3,
     "solution": true,
     "task": false
    }
   },
   "outputs": [],
   "source": [
    "\n",
    "def my_model(xtrain,xtest,ytrain,ytest):\n",
    "    \"\"\"Write a function to train a machine learning model to get the test accuracy of 100%. \n",
    "    You are free to use any classication model such as Decision Tree, \n",
    "    Random Forest, KNN, SVM..etc. \"\"\"\n",
    "    # YOUR CODE HERE\n",
    "    raise NotImplementedError()\n",
    "\n"
   ]
  },
  {
   "cell_type": "code",
   "execution_count": null,
   "metadata": {
    "deletable": false,
    "editable": false,
    "nbgrader": {
     "cell_type": "code",
     "checksum": "b15a8a354453f7e99cb9fa5a6cb0b977",
     "grade": true,
     "grade_id": "my_model_test",
     "locked": true,
     "points": 9,
     "schema_version": 3,
     "solution": false,
     "task": false
    }
   },
   "outputs": [],
   "source": [
    "# Check you solution by running this cell\n",
    "import math\n",
    "assert math.isclose(my_model(xtrain,xtest,ytrain,ytest), 100.0, rel_tol = 0.05)"
   ]
  },
  {
   "cell_type": "code",
   "execution_count": null,
   "metadata": {},
   "outputs": [],
   "source": []
  }
 ],
 "metadata": {
  "kernelspec": {
   "display_name": "Python 3",
   "language": "python",
   "name": "python3"
  },
  "language_info": {
   "codemirror_mode": {
    "name": "ipython",
    "version": 3
   },
   "file_extension": ".py",
   "mimetype": "text/x-python",
   "name": "python",
   "nbconvert_exporter": "python",
   "pygments_lexer": "ipython3",
   "version": "3.7.11"
  }
 },
 "nbformat": 4,
 "nbformat_minor": 1
}
